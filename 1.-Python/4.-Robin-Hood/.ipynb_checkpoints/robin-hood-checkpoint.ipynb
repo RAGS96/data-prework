{
 "cells": [
  {
   "cell_type": "markdown",
   "metadata": {},
   "source": [
    "<img src=\"https://bit.ly/2VnXWr2\" width=\"100\" align=\"left\"/>"
   ]
  },
  {
   "cell_type": "markdown",
   "metadata": {},
   "source": [
    "# Robin Hood\n",
    "Robin Hood has entered a competition to win the archery contest in Sherwood. With his bow and arrows, he needs to shoot on a target and try to hit as close as possible to the center.\n",
    "\n",
    "![](images/arrows.jpg)\n",
    "\n",
    "## Context\n",
    "In this challenge, the landing position of arrows shot by archers in the competition will be represented using 2-dimensional coordinates. \n",
    "\n",
    "In the 2-dimensional space, a point can be defined by a pair of values that correspond to the horizontal coordinate (x) and the vertical coordinate (y). For example, in our case, an arrow that hits the center of the archery target will land in position (0, 0) on the coordinate axes. \n",
    "\n",
    "The space can be divided into 4 zones (quadrants): Q1, Q2, Q3, Q4. If a point is in Q1, both its x coordinate and y coordinate are positive. Any point with a null x or y coordinate is considered to not belong to any quadrant. \n",
    "\n",
    "If you want to know more about the cartesian coordinate system, you can check this [link](https://en.wikipedia.org/wiki/Cartesian_coordinate_system). \n",
    "\n",
    "## Tools\n",
    "You don't necessarily need to use all the tools. Maybe you opt to use some of them or completely different ones, they are given to help you shape the exercise. Programming exercises can be solved in many different ways.\n",
    "* Data structures: **lists, sets, tuples**\n",
    "* Conditional statements: **if-elif-else**\n",
    "* Loop: **while/for**\n",
    "* Minimum (optional sorting)\n",
    "\n",
    "## Tasks\n",
    "Robin Hood has hit the following points:"
   ]
  },
  {
   "cell_type": "code",
   "execution_count": 2,
   "metadata": {},
   "outputs": [],
   "source": [
    "points = [(4, 5), (-0, 2), (4, 7), (1, -3), (3, -2), (4, 5), (3, 2), (5, 7), (-5, 7), (2, 2), (-4, 5), (0, -2),\n",
    "          (-4, 7), (-1, 3), (-3, 2), (-4, -5), (-3, 2), (5, 7), (5, 7), (2, 2), (9, 9), (-8, -9)]"
   ]
  },
  {
   "cell_type": "markdown",
   "metadata": {},
   "source": [
    "#### 1. Robin Hood is famous for hitting an arrow with another arrow. Find the coordinates of the points where an arrow hits another arrow."
   ]
  },
  {
   "cell_type": "code",
   "execution_count": 58,
   "metadata": {},
   "outputs": [
    {
     "name": "stdout",
     "output_type": "stream",
     "text": [
      "(4, 5) 2\n",
      "(5, 7) 3\n",
      "(2, 2) 2\n",
      "(-3, 2) 2\n",
      "The coordinates where a arrow hits another are: {(4, 5), (5, 7), (-3, 2), (2, 2)}\n"
     ]
    }
   ],
   "source": [
    "multiple_bullseye = []\n",
    "for i in points:\n",
    "    if points.count(i) > 1:\n",
    "        if i not in multiple_bullseye:\n",
    "            multiple_bullseye.append(i)\n",
    "            if i in multiple_bullseye:\n",
    "                print(i, points.count(i))            \n",
    "\n",
    "print(\"The coordinates where a arrow hits another are:\", set(multiple_bullseye))"
   ]
  },
  {
   "cell_type": "markdown",
   "metadata": {},
   "source": [
    "#### 2. Calculate how many arrows have fallen in each quadrant. \n",
    "**Note**: the arrows that fall in the axis (x=0 or y=0) don't belong to any quadrant."
   ]
  },
  {
   "cell_type": "code",
   "execution_count": 59,
   "metadata": {},
   "outputs": [
    {
     "name": "stdout",
     "output_type": "stream",
     "text": [
      "10 : [(4, 5), (4, 7), (4, 5), (3, 2), (5, 7), (2, 2), (5, 7), (5, 7), (2, 2), (9, 9)]\n",
      "2 : [(1, -3), (3, -2)]\n",
      "2 : [(-4, -5), (-8, -9)]\n",
      "6 : [(-5, 7), (-4, 5), (-4, 7), (-1, 3), (-3, 2), (-3, 2)]\n",
      "The arrows that dont belong in any quadrant are: [(0, 2), (0, -2)]\n"
     ]
    }
   ],
   "source": [
    "# If the question referes to all the arrows shoot\n",
    "\n",
    "q1 = []\n",
    "q2 = []\n",
    "q3 = []\n",
    "q4 = []\n",
    "no_q = []\n",
    "\n",
    "q1_count = 0\n",
    "q2_count = 0\n",
    "q3_count = 0\n",
    "q4_count = 0\n",
    "no_q_count = 0\n",
    "\n",
    "for cord in points:\n",
    "    x = cord[0]\n",
    "    y = cord[1]\n",
    "    if x > 0 and y > 0:\n",
    "        q1.append(cord)\n",
    "        q1_count += 1\n",
    "    elif x > 0 and y < 0:\n",
    "        q2.append(cord)\n",
    "        q2_count += 1\n",
    "    elif x < 0 and y < 0:\n",
    "        q3.append(cord)\n",
    "        q3_count += 1\n",
    "    elif x < 0 and y > 0:\n",
    "        q4.append(cord)\n",
    "        q4_count += 1\n",
    "    else:\n",
    "        no_q.append(cord)\n",
    "        no_q_count += 1\n",
    "\n",
    "\n",
    "print(q1_count,\":\", q1)\n",
    "print(q2_count,\":\", q2)\n",
    "print(q3_count,\":\", q3)\n",
    "print(q4_count,\":\", q4)\n",
    "print(\"The arrows that dont belong in any quadrant are:\", no_q)"
   ]
  },
  {
   "cell_type": "code",
   "execution_count": 60,
   "metadata": {},
   "outputs": [
    {
     "name": "stdout",
     "output_type": "stream",
     "text": [
      "3 : [(4, 5), (5, 7), (2, 2)]\n",
      "0 : []\n",
      "1 : [(-3, 2)]\n",
      "0 : []\n",
      "The arrows that dont belong in any quadrant are: []\n"
     ]
    }
   ],
   "source": [
    "#OR if its only refering to the arrows that fall because they get hit by another arrow \n",
    "\n",
    "q1 = []\n",
    "q2 = []\n",
    "q3 = []\n",
    "q4 = []\n",
    "no_q = []\n",
    "\n",
    "q1_count = 0\n",
    "q2_count = 0\n",
    "q3_count = 0\n",
    "q4_count = 0\n",
    "no_q_count = 0\n",
    "\n",
    "for arrow in multiple_bullseye:\n",
    "    x = arrow[0]\n",
    "    y = arrow[1]\n",
    "    if x > 0 and y > 0:\n",
    "        q1_count += 1\n",
    "        q1.append(arrow)\n",
    "    elif x > 0 and y < 0:\n",
    "        q2_count += 1\n",
    "        q2.append(arrow)\n",
    "    elif x < 0 and y > 0:\n",
    "        q3_count += 1\n",
    "        q3.append(arrow)\n",
    "    elif x < 0 and y < 0:\n",
    "        q4_count += 1\n",
    "        q4.append(arrow)\n",
    "    else:\n",
    "        no_q.append(arrow)\n",
    "\n",
    "print(q1_count,\":\", q1)\n",
    "print(q2_count,\":\", q2)\n",
    "print(q3_count,\":\", q3)\n",
    "print(q4_count,\":\", q4)\n",
    "print(\"The arrows that dont belong in any quadrant are:\", no_q)"
   ]
  },
  {
   "cell_type": "markdown",
   "metadata": {},
   "source": [
    "#### 3. Find the point closest to the center. Calculate its distance to the center. \n",
    "Take into account that there might be more than one point at the minimum distance to the center.\n",
    "\n",
    "**Hint**: Use the Euclidean distance. You can find more information about it [here](https://en.wikipedia.org/wiki/Euclidean_distance).  \n",
    "**Hint**: Defining a function that calculates the distance to the center can help."
   ]
  },
  {
   "cell_type": "code",
   "execution_count": 61,
   "metadata": {},
   "outputs": [
    {
     "name": "stdout",
     "output_type": "stream",
     "text": [
      "Dictionary whit keys(coordenates) and values(distances): \n",
      " {(4, 5): 6.4031242374328485, (0, 2): 2.0, (4, 7): 8.06225774829855, (1, -3): 3.1622776601683795, (3, -2): 3.605551275463989, (3, 2): 3.605551275463989, (5, 7): 8.602325267042627, (-5, 7): 8.602325267042627, (2, 2): 2.8284271247461903, (-4, 5): 6.4031242374328485, (0, -2): 2.0, (-4, 7): 8.06225774829855, (-1, 3): 3.1622776601683795, (-3, 2): 3.605551275463989, (-4, -5): 6.4031242374328485, (9, 9): 12.727922061357855, (-8, -9): 12.041594578792296}\n",
      "Dictionary with the points closest to the center: {(0, 2): 2.0, (0, -2): 2.0}\n",
      "Points nearest to the center: dict_keys([(0, 2), (0, -2)]) , whit a value of 2.0\n"
     ]
    },
    {
     "data": {
      "text/plain": [
       "'\\nfrom math import sqrt\\n\\ndef distance(cord):\\n    p1 = 0\\n    p2 = 0\\n    return sqrt(((cord[0]-p1)**2) + ((cord[1]-p2)**2))\\n\\ndistances = []\\nfor i in points:\\n    distances.append(distance(i))\\n\\nclosest_list = []\\nfail_count = 0\\nfor i in distances:\\n    if i == min(distances):\\n        closest_list.append(i)\\n        fail_count += 1\\n        print(closest_list, fail_count)\\n'"
      ]
     },
     "execution_count": 61,
     "metadata": {},
     "output_type": "execute_result"
    }
   ],
   "source": [
    "# Euclidean distance (2 dimensions): d(p,q) = raiz quadrada:(q1-p1)**2 + (q2-p2)**2  ** 0.5\n",
    "\n",
    "euc_distance = {}\n",
    "p1 = 0\n",
    "p2 = 0\n",
    "\n",
    "for point in points:\n",
    "    q1 = point[0]\n",
    "    q2 = point[1]\n",
    "    distance = (((q1-p1)**2) + ((q2-p2)**2)) **0.5\n",
    "    euc_distance[point] = distance\n",
    "print(\"Dictionary whit keys(coordenates) and values(distances):\", \"\\n\", euc_distance)\n",
    "\n",
    "\n",
    "m = min(euc_distance.values())\n",
    "new_dict = {}\n",
    "for key, value in euc_distance.items():\n",
    "    if m == value:\n",
    "        new_dict[key] = value       \n",
    "print(\"Dictionary with the points closest to the center:\", new_dict)\n",
    "        \n",
    "\n",
    "print(\"Points nearest to the center:\", new_dict.keys(), \", whit a value of\", m)\n",
    "\n",
    "\n",
    "\n",
    "# other option with function\n",
    "\"\"\"\n",
    "from math import sqrt\n",
    "\n",
    "def distance(cord):\n",
    "    p1 = 0\n",
    "    p2 = 0\n",
    "    return sqrt(((cord[0]-p1)**2) + ((cord[1]-p2)**2))\n",
    "\n",
    "distances = []\n",
    "for i in points:\n",
    "    distances.append(distance(i))\n",
    "\n",
    "closest_list = []\n",
    "fail_count = 0\n",
    "for i in distances:\n",
    "    if i == min(distances):\n",
    "        closest_list.append(i)\n",
    "        fail_count += 1\n",
    "        print(closest_list, fail_count)\n",
    "\"\"\""
   ]
  },
  {
   "cell_type": "markdown",
   "metadata": {},
   "source": [
    "#### 4. If the archery target has a radius of 9, calculate the number of arrows that won't hit the target. \n",
    "**Hint**: Use the function created in step 3. "
   ]
  },
  {
   "cell_type": "code",
   "execution_count": 62,
   "metadata": {},
   "outputs": [
    {
     "name": "stdout",
     "output_type": "stream",
     "text": [
      "2 arrows missed\n",
      "[(-3, 2), (-3, 2)]\n",
      "{(9, 9): 1, (-8, -9): 2}\n"
     ]
    },
    {
     "data": {
      "text/plain": [
       "'\\nfail_target = []\\nfail_count = 0\\nfor i in distances:\\n    if i >= 9:\\n        fail_target.append(i)\\n        fail_count += 1\\nprint(fail_target, fail_count)\\n'"
      ]
     },
     "execution_count": 62,
     "metadata": {},
     "output_type": "execute_result"
    }
   ],
   "source": [
    "miss_arrow = 0\n",
    "missed_arrows_cord = []\n",
    "dic_missed = {}\n",
    "\n",
    "for i in points:\n",
    "    x = i[0]\n",
    "    y = i[1]\n",
    "    if ((x-p1)**2) + ((y-p2)**2) >= (9**2):\n",
    "        miss_arrow += 1\n",
    "        missed_arrows_cord.append(arrow)\n",
    "        dic_missed[i] = miss_arrow\n",
    "        \n",
    "print(miss_arrow, \"arrows missed\")\n",
    "print(missed_arrows_cord)\n",
    "print(dic_missed)\n",
    "\n",
    "\n",
    "\n",
    "#OR\n",
    "\"\"\"\n",
    "fail_target = []\n",
    "fail_count = 0\n",
    "for i in distances:\n",
    "    if i >= 9:\n",
    "        fail_target.append(i)\n",
    "        fail_count += 1\n",
    "print(fail_target, fail_count)\n",
    "\"\"\"\n"
   ]
  },
  {
   "cell_type": "code",
   "execution_count": null,
   "metadata": {},
   "outputs": [],
   "source": []
  }
 ],
 "metadata": {
  "kernelspec": {
   "display_name": "Python 3",
   "language": "python",
   "name": "python3"
  },
  "language_info": {
   "codemirror_mode": {
    "name": "ipython",
    "version": 3
   },
   "file_extension": ".py",
   "mimetype": "text/x-python",
   "name": "python",
   "nbconvert_exporter": "python",
   "pygments_lexer": "ipython3",
   "version": "3.7.6"
  }
 },
 "nbformat": 4,
 "nbformat_minor": 2
}
