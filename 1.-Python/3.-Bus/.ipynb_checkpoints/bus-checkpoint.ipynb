{
 "cells": [
  {
   "cell_type": "markdown",
   "metadata": {},
   "source": [
    "<img src=\"https://bit.ly/2VnXWr2\" width=\"100\" align=\"left\">"
   ]
  },
  {
   "cell_type": "markdown",
   "metadata": {},
   "source": [
    "# Bus\n",
    "\n",
    "This bus has a passenger entry and exit control system to monitor the number of occupants it carries and thus detect when there are too many.\n",
    "\n",
    "At each stop, the entry and exit of passengers is represented by a tuple consisting of two integer numbers.\n",
    "```\n",
    "bus_stop = (in, out)\n",
    "```\n",
    "The succession of stops is represented by a list of these tuples.\n",
    "```\n",
    "stops = [(in1, out1), (in2, out2), (in3, out3), (in4, out4)]\n",
    "```\n",
    "\n",
    "## Tools\n",
    "You don't necessarily need to use all the tools. Maybe you opt to use some of them or completely different ones, they are given to help you shape the exercise. Programming exercises can be solved in many different ways.\n",
    "* Data structures: **lists, tuples**\n",
    "* Loop: **while/for loops**\n",
    "* Functions: **min, max, len**\n",
    "\n",
    "## Tasks"
   ]
  },
  {
   "cell_type": "code",
   "execution_count": 2,
   "metadata": {},
   "outputs": [],
   "source": [
    "# Variables\n",
    "stops = [(10, 0), (4, 1), (3, 5), (3, 4), (5, 1), (1, 5), (5, 8), (4, 6), (2, 3)]"
   ]
  },
  {
   "cell_type": "markdown",
   "metadata": {},
   "source": [
    "#### 1. Calculate the number of stops."
   ]
  },
  {
   "cell_type": "code",
   "execution_count": 12,
   "metadata": {},
   "outputs": [
    {
     "name": "stdout",
     "output_type": "stream",
     "text": [
      "Number of stops: 9\n"
     ]
    }
   ],
   "source": [
    "print(\"Number of stops:\", len(stops))"
   ]
  },
  {
   "cell_type": "markdown",
   "metadata": {},
   "source": [
    "#### 2. Assign to a variable a list whose elements are the number of passengers at each stop (in-out).\n",
    "Each item depends on the previous item in the list + in - out."
   ]
  },
  {
   "cell_type": "code",
   "execution_count": 10,
   "metadata": {},
   "outputs": [
    {
     "name": "stdout",
     "output_type": "stream",
     "text": [
      "[10, 13, 11, 10, 14, 10, 7, 5, 4]\n"
     ]
    },
    {
     "data": {
      "text/plain": [
       "'\\nstop1 = stops[0][0] - stops[0][1]\\nstop2 = (stop1 + stops[1][0]) - stops[1][1]\\nstop3 = (stop2 + stops[2][0]) - stops[2][1]\\nstop4 = (stop3 + stops[3][0]) - stops[3][1]\\nstop5 = (stop4 + stops[4][0]) - stops[4][1]\\nstop6 = (stop5 + stops[5][0]) - stops[5][1]\\nstop7 = (stop6 + stops[6][0]) - stops[6][1]\\nstop8 = (stop7 + stops[7][0]) - stops[7][1]\\nstop9 = (stop8 + stops[8][0]) - stops[8][1]\\n\\npassengers = [stop1, stop2, stop3, stop4, stop5, stop6, stop7, stop8, stop9]\\nprint(passengers)\\n\\n'"
      ]
     },
     "execution_count": 10,
     "metadata": {},
     "output_type": "execute_result"
    }
   ],
   "source": [
    "passengers = []\n",
    "total = 0\n",
    "\n",
    "for stop in stops:\n",
    "    total += stop[0] - stop[1]\n",
    "    passengers.append(total)\n",
    "    \n",
    "print(passengers)\n",
    "\n",
    "\n",
    "\n",
    "\"\"\"\n",
    "stop1 = stops[0][0] - stops[0][1]\n",
    "stop2 = (stop1 + stops[1][0]) - stops[1][1]\n",
    "stop3 = (stop2 + stops[2][0]) - stops[2][1]\n",
    "stop4 = (stop3 + stops[3][0]) - stops[3][1]\n",
    "stop5 = (stop4 + stops[4][0]) - stops[4][1]\n",
    "stop6 = (stop5 + stops[5][0]) - stops[5][1]\n",
    "stop7 = (stop6 + stops[6][0]) - stops[6][1]\n",
    "stop8 = (stop7 + stops[7][0]) - stops[7][1]\n",
    "stop9 = (stop8 + stops[8][0]) - stops[8][1]\n",
    "\n",
    "passengers = [stop1, stop2, stop3, stop4, stop5, stop6, stop7, stop8, stop9]\n",
    "print(passengers)\n",
    "\n",
    "\n",
    "###\n",
    "passengers = []\n",
    "total = 0\n",
    "inout = []\n",
    "n_stop = 0\n",
    "\n",
    "for stop in stops:\n",
    "    inout.append(stop[0]-stop[1])\n",
    "\n",
    "for i in inout:\n",
    "    total += i\n",
    "    n_stop += 1\n",
    "    passengers.append(total)\n",
    "    print(\"Bus currently has\", total, \"passengers on the\", n_stop, \"stop\")\n",
    "print(passengers)\n",
    "\n",
    "\n",
    "\n",
    "\"\"\""
   ]
  },
  {
   "cell_type": "markdown",
   "metadata": {},
   "source": [
    "#### 3. Find the maximum occupation of the bus."
   ]
  },
  {
   "cell_type": "code",
   "execution_count": 7,
   "metadata": {},
   "outputs": [
    {
     "name": "stdout",
     "output_type": "stream",
     "text": [
      "14\n"
     ]
    }
   ],
   "source": [
    "print(max(passengers))"
   ]
  },
  {
   "cell_type": "markdown",
   "metadata": {},
   "source": [
    "#### 4. Calculate the average occupation. And the standard deviation."
   ]
  },
  {
   "cell_type": "code",
   "execution_count": 11,
   "metadata": {},
   "outputs": [
    {
     "name": "stdout",
     "output_type": "stream",
     "text": [
      "9.333333333333334\n",
      "3.391164991562634\n"
     ]
    }
   ],
   "source": [
    "avg = sum(passengers)/len(stops)\n",
    "print(avg)\n",
    "\n",
    "import statistics\n",
    "print(statistics.stdev(passengers))"
   ]
  },
  {
   "cell_type": "code",
   "execution_count": null,
   "metadata": {},
   "outputs": [],
   "source": []
  }
 ],
 "metadata": {
  "kernelspec": {
   "display_name": "Python 3",
   "language": "python",
   "name": "python3"
  },
  "language_info": {
   "codemirror_mode": {
    "name": "ipython",
    "version": 3
   },
   "file_extension": ".py",
   "mimetype": "text/x-python",
   "name": "python",
   "nbconvert_exporter": "python",
   "pygments_lexer": "ipython3",
   "version": "3.7.6"
  }
 },
 "nbformat": 4,
 "nbformat_minor": 2
}
