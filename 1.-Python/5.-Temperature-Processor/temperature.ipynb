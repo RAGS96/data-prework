{
 "cells": [
  {
   "cell_type": "markdown",
   "metadata": {},
   "source": [
    "<img src=\"https://bit.ly/2VnXWr2\" width=\"100\" align=\"left\">"
   ]
  },
  {
   "cell_type": "markdown",
   "metadata": {},
   "source": [
    "# Temperature Sensor\n",
    "\n",
    "There is a temperature sensor in the processor of your company's server. The company wants to analyze the data provided by the sensor to decide if they should change the cooling system for a better one. As changing the cooling system is expensive and you are an excellent data analyst, you can't make a decision without basis.\n",
    "\n",
    "## Tools\n",
    "You don't necessarily need to use all the tools. Maybe you opt to use some of them or completely different ones, they are given to help you shape the exercise. Programming exercises can be solved in many different ways.\n",
    "1. Data structures: **lists**\n",
    "2. Loops: **list comprehension**\n",
    "3. Functions: **min, max, print, len**\n",
    "4. Conditional statements: **if-elif-else**\n",
    "\n",
    "## Tasks\n",
    "The temperatures measured throughout the 24 hours of a day are:"
   ]
  },
  {
   "cell_type": "code",
   "execution_count": 1,
   "metadata": {},
   "outputs": [],
   "source": [
    "temperatures_C = [33, 66, 65, 0, 59, 60, 62, 64, 70, 76, 80, 81, 80, 83, 90, 79, 61, 53, 50, 49, 53, 48, 45, 39]"
   ]
  },
  {
   "cell_type": "markdown",
   "metadata": {},
   "source": [
    "The first element of the list is the temperature at 12am, the second element is the temperature at 1am, and so on. \n",
    "\n",
    "The company has decided that if one of the following events occurs, then the cooling system needs to be replaced for a new one to avoid damaging the processor.\n",
    "* More than 4 temperatures are greater than or equal to 70ºC.\n",
    "* Any temperature is above 80ºC.\n",
    "* The average temperature exceeds 65ºC.\n",
    "\n",
    "Follow the steps so that you can make the decision.\n",
    "\n",
    "#### 1. Find the minimum temperature of the day and store it in a variable."
   ]
  },
  {
   "cell_type": "code",
   "execution_count": 57,
   "metadata": {},
   "outputs": [
    {
     "name": "stdout",
     "output_type": "stream",
     "text": [
      "0\n"
     ]
    }
   ],
   "source": [
    "min_temp = min(temperatures_C)\n",
    "print(min_temp)"
   ]
  },
  {
   "cell_type": "markdown",
   "metadata": {},
   "source": [
    "#### 2. Find the maximum temperature of the day and store it in a variable."
   ]
  },
  {
   "cell_type": "code",
   "execution_count": 58,
   "metadata": {},
   "outputs": [
    {
     "name": "stdout",
     "output_type": "stream",
     "text": [
      "90\n"
     ]
    }
   ],
   "source": [
    "max_temp = max(temperatures_C)\n",
    "print(max_temp)"
   ]
  },
  {
   "cell_type": "markdown",
   "metadata": {},
   "source": [
    "#### 3. Create a list with the temperatures that are greater than or equal to 70ºC. Store it in a variable."
   ]
  },
  {
   "cell_type": "code",
   "execution_count": 59,
   "metadata": {},
   "outputs": [
    {
     "name": "stdout",
     "output_type": "stream",
     "text": [
      "[70, 76, 80, 81, 80, 83, 90, 79]\n"
     ]
    },
    {
     "data": {
      "text/plain": [
       "'\\nexc_temp = [temp for temp in temperatures_C if temp >= 70]\\nprint(exc_temp)\\n'"
      ]
     },
     "execution_count": 59,
     "metadata": {},
     "output_type": "execute_result"
    }
   ],
   "source": [
    "exc_temp = []\n",
    "for i in temperatures_C:\n",
    "    if i >= 70:\n",
    "        exc_temp.append(i)\n",
    "print(exc_temp)\n",
    "\n",
    "\"\"\"\n",
    "exc_temp = [temp for temp in temperatures_C if temp >= 70]\n",
    "print(exc_temp)\n",
    "\"\"\""
   ]
  },
  {
   "cell_type": "markdown",
   "metadata": {},
   "source": [
    "#### 4. Find the average temperature of the day and store it in a variable."
   ]
  },
  {
   "cell_type": "code",
   "execution_count": 60,
   "metadata": {},
   "outputs": [
    {
     "name": "stdout",
     "output_type": "stream",
     "text": [
      "60\n"
     ]
    }
   ],
   "source": [
    "avg_temp = sum(temperatures_C)/len(temperatures_C)\n",
    "print(int(avg_temp))"
   ]
  },
  {
   "cell_type": "markdown",
   "metadata": {},
   "source": [
    "#### 5. Imagine that there was a sensor failure at 3am and the data for that specific hour was not recorded. How would you estimate the missing value? Replace the current value of the list at 3am for an estimation. "
   ]
  },
  {
   "cell_type": "code",
   "execution_count": 126,
   "metadata": {},
   "outputs": [
    {
     "name": "stdout",
     "output_type": "stream",
     "text": [
      "63\n"
     ]
    },
    {
     "data": {
      "text/plain": [
       "'\\ntemperatures_C[3] = int(avg_temp)\\nprint(temperatures_C)\\n\\n\\ntotal = 0\\nfor i in temperatures_C:\\n    total += i    \\navg_update = total/(len(temperatures_C) - 1)\\n'"
      ]
     },
     "execution_count": 126,
     "metadata": {},
     "output_type": "execute_result"
    }
   ],
   "source": [
    "replace_sensor_fail = []\n",
    "for i in temperatures_C: \n",
    "    if i > 0:\n",
    "        replace_sensor_fail.append(i)\n",
    "        \n",
    "avg_update = sum(replace_sensor_fail)/len(replace_sensor_fail)\n",
    "print(round(avg_update))\n",
    "\n",
    "temperatures_C[3] = round(avg_update)\n",
    "\n",
    "\n",
    "\n",
    "\n",
    "# 2 other options\n",
    "\n",
    "\"\"\"\n",
    "temperatures_C[3] = int(avg_temp)\n",
    "print(temperatures_C)\n",
    "\n",
    "\n",
    "total = 0\n",
    "for i in temperatures_C:\n",
    "    total += i    \n",
    "avg_update = total/(len(temperatures_C) - 1)\n",
    "\"\"\"\n",
    "\n",
    "        "
   ]
  },
  {
   "cell_type": "markdown",
   "metadata": {},
   "source": [
    "#### 6. Bonus: the maintenance staff is from the United States and does not understand the international metric system. Help them by converting the temperatures from Celsius to Fahrenheit.\n",
    "To know more about temperature conversion check this [link](https://en.wikipedia.org/wiki/Conversion_of_units_of_temperature).\n",
    "\n",
    "**Formula**: \n",
    "\n",
    "$F = 1.8 * C + 32$"
   ]
  },
  {
   "cell_type": "code",
   "execution_count": 127,
   "metadata": {},
   "outputs": [
    {
     "name": "stdout",
     "output_type": "stream",
     "text": [
      "[91, 150, 149, 145, 138, 140, 143, 147, 158, 168, 176, 177, 176, 181, 194, 174, 141, 127, 122, 120, 127, 118, 113, 102, 145, 145]\n"
     ]
    },
    {
     "data": {
      "text/plain": [
       "'\\ndef convert_cel_to_fah(c):\\n        f = (1.8*c) + 32\\n        return \"Temperature in Fahrenheit:\", f\\nconvert_cel_to_fah(33)\\n\\n\\ntemperatures_F = [int(1.8*i+32) for i in temperatures_C]\\nprint(temperatures_F)\\n'"
      ]
     },
     "execution_count": 127,
     "metadata": {},
     "output_type": "execute_result"
    }
   ],
   "source": [
    "temperatures_F = []\n",
    "for i in temperatures_C:\n",
    "    f = (1.8*i) + 32\n",
    "    if i not in temperatures_F:\n",
    "        temperatures_F.append(int(f))\n",
    "print(temperatures_F)\n",
    "\n",
    "\"\"\"\n",
    "def convert_cel_to_fah(c):\n",
    "        f = (1.8*c) + 32\n",
    "        return \"Temperature in Fahrenheit:\", f\n",
    "convert_cel_to_fah(33)\n",
    "\n",
    "\n",
    "temperatures_F = [int(1.8*i+32) for i in temperatures_C]\n",
    "print(temperatures_F)\n",
    "\"\"\""
   ]
  },
  {
   "cell_type": "markdown",
   "metadata": {},
   "source": [
    "#### 7. Make a decision!\n",
    "Now it's time to make a decision taking into account what you have seen until now. \n",
    "\n",
    "Remember that if one of the following events occurs, then the cooling system needs to be replaced for a new one to avoid damaging the processor.\n",
    "* More than 4 temperatures are greater than or equal to 70ºC.\n",
    "* Any temperature is above 80ºC.\n",
    "* The average temperature exceeds 65ºC.\n",
    "\n",
    "#### To make your decision, check if any of the three conditions above is met. You might need to use some of the variables you created in steps 1 to 6. Print a message to show if the cooling system needs to be changed or not."
   ]
  },
  {
   "cell_type": "code",
   "execution_count": 128,
   "metadata": {},
   "outputs": [
    {
     "name": "stdout",
     "output_type": "stream",
     "text": [
      "The cooling system needs to be changed\n"
     ]
    }
   ],
   "source": [
    "if len(exc_temp) > 4 or max_temp > 80 or avg_temp > 65:\n",
    "    print(\"The cooling system needs to be changed\")    "
   ]
  },
  {
   "cell_type": "markdown",
   "metadata": {},
   "source": [
    "## Bonus\n",
    "\n",
    "The company has decided that the decision you made is not valid. They want you to analyze the data again but this time, the conditions that need to be met in order to change the cooling system are different.\n",
    "\n",
    "This time, if one of the following events occurs, then the cooling system needs to be replaced:\n",
    "* The temperature is greater than 70ºC during more than 4 consecutive hours.\n",
    "* Any temperature is above 80ºC.\n",
    "* The average temperature exceeds 65ºC.\n",
    "\n",
    "Follow the steps so that you can make the decision.\n",
    "\n",
    "#### 1. Create a list with the hours where the temperature is greater than 70ºC. Store it in a variable."
   ]
  },
  {
   "cell_type": "code",
   "execution_count": 129,
   "metadata": {},
   "outputs": [
    {
     "name": "stdout",
     "output_type": "stream",
     "text": [
      "[9, 10, 11, 12, 13, 14, 15]\n",
      "[76, 80, 81, 80, 83, 90, 79]\n"
     ]
    },
    {
     "data": {
      "text/plain": [
       "'\\nhours = []\\ncurrent_hours = 0\\nfor i in temperatures_C:\\n    if i > 70:\\n        hours.append(current_hours)\\n    current_hours += 1\\nprint(hours)\\n'"
      ]
     },
     "execution_count": 129,
     "metadata": {},
     "output_type": "execute_result"
    }
   ],
   "source": [
    "hours = []\n",
    "for i in range(len(temperatures_C)):\n",
    "    if temperatures_C[i] > 70:\n",
    "        hours.append(i)\n",
    "print(hours)\n",
    "\n",
    "temp_greater_70 = []\n",
    "for i in temperatures_C:\n",
    "    if i > 70:\n",
    "        temp_greater_70.append(i)\n",
    "print(temp_greater_70)\n",
    "        \n",
    "\n",
    "\"\"\"\n",
    "hours = []\n",
    "current_hours = 0\n",
    "for i in temperatures_C:\n",
    "    if i > 70:\n",
    "        hours.append(current_hours)\n",
    "    current_hours += 1\n",
    "print(hours)\n",
    "\"\"\""
   ]
  },
  {
   "cell_type": "markdown",
   "metadata": {},
   "source": [
    "#### 2. Check if the list you created in step 1 has more than 4 consecutive hours. "
   ]
  },
  {
   "cell_type": "code",
   "execution_count": 130,
   "metadata": {},
   "outputs": [
    {
     "name": "stdout",
     "output_type": "stream",
     "text": [
      "There are more than 4 consecutive hours\n",
      "True\n"
     ]
    }
   ],
   "source": [
    "count_hours = 0\n",
    "for i in range(len(hours)):\n",
    "    if temperatures_C[i] > 4:\n",
    "        count_hours += 1\n",
    "        if count_hours > 4:\n",
    "            print(\"There are more than 4 consecutive hours\")\n",
    "            break\n",
    "            \n",
    "            \n",
    "#OR            \n",
    "print(max(hours) > 4)"
   ]
  },
  {
   "cell_type": "markdown",
   "metadata": {},
   "source": [
    "#### 3. Make the decision!\n",
    "To make your decision, check if any of the three conditions is met. Print a message to show if the cooling system needs to be changed or not."
   ]
  },
  {
   "cell_type": "code",
   "execution_count": 131,
   "metadata": {},
   "outputs": [
    {
     "name": "stdout",
     "output_type": "stream",
     "text": [
      "The cooling system needs to be replaced\n"
     ]
    },
    {
     "data": {
      "text/plain": [
       "'\\nreplacing_cooling_system = False\\nif max(hours) > 4:\\n        replacing_cooling_system = True\\n        print(\"Cooling system needs to be replaced\")        \\nelif max_temp > 80:\\n        replacing_cooling_system = True\\n        print(\"Cooling system needs to be replaced\")\\nelif avg_temp > 65:\\n        replacing_cooling_system = True\\n        print(\"Cooling system needs to be replaced\")\\nelse:\\n    print(\"Cooling system doesnt need to be replaced!\")\\n'"
      ]
     },
     "execution_count": 131,
     "metadata": {},
     "output_type": "execute_result"
    }
   ],
   "source": [
    "if max(hours) > 4 or max_temp > 80 or avg_temp > 65:\n",
    "    print(\"The cooling system needs to be replaced\")\n",
    "\n",
    "\"\"\"\n",
    "replacing_cooling_system = False\n",
    "if max(hours) > 4:\n",
    "        replacing_cooling_system = True\n",
    "        print(\"Cooling system needs to be replaced\")        \n",
    "elif max_temp > 80:\n",
    "        replacing_cooling_system = True\n",
    "        print(\"Cooling system needs to be replaced\")\n",
    "elif avg_temp > 65:\n",
    "        replacing_cooling_system = True\n",
    "        print(\"Cooling system needs to be replaced\")\n",
    "else:\n",
    "    print(\"Cooling system doesnt need to be replaced!\")\n",
    "\"\"\""
   ]
  },
  {
   "cell_type": "markdown",
   "metadata": {},
   "source": [
    "#### 4. Find the average value of the temperature lists (ºC and ºF). What is the relation between both average values?"
   ]
  },
  {
   "cell_type": "code",
   "execution_count": 139,
   "metadata": {},
   "outputs": [
    {
     "name": "stdout",
     "output_type": "stream",
     "text": [
      "62.88461538461539\n",
      "144.8846153846154\n",
      "The avg temperature in Fº is 2.303975535168196 times the avg temperature in Cº\n"
     ]
    }
   ],
   "source": [
    "avg_temp = sum(temperatures_C)/len(temperatures_C)\n",
    "print(avg_temp)\n",
    "\n",
    "avg_temp_F = sum(temperatures_F)/len(temperatures_F)\n",
    "print(avg_temp_F)\n",
    "\n",
    "relation = (avg_temp_F/avg_temp)\n",
    "print(\"The avg temperature in Fº is\", relation, \"times the avg temperature in Cº\")"
   ]
  },
  {
   "cell_type": "markdown",
   "metadata": {},
   "source": [
    "#### 5. Find the standard deviation of the temperature lists (ºC and ºF). What is the relation between both standard deviations?"
   ]
  },
  {
   "cell_type": "code",
   "execution_count": 140,
   "metadata": {},
   "outputs": [
    {
     "name": "stdout",
     "output_type": "stream",
     "text": [
      "14.336880896699737\n",
      "25.799731662289705\n"
     ]
    }
   ],
   "source": [
    "import statistics\n",
    "stdev_C = statistics.stdev(temperatures_C)\n",
    "stdev_F = statistics.stdev(temperatures_F)\n",
    "print(stdev_C)\n",
    "print(stdev_F)"
   ]
  }
 ],
 "metadata": {
  "kernelspec": {
   "display_name": "Python 3",
   "language": "python",
   "name": "python3"
  },
  "language_info": {
   "codemirror_mode": {
    "name": "ipython",
    "version": 3
   },
   "file_extension": ".py",
   "mimetype": "text/x-python",
   "name": "python",
   "nbconvert_exporter": "python",
   "pygments_lexer": "ipython3",
   "version": "3.7.6"
  }
 },
 "nbformat": 4,
 "nbformat_minor": 2
}
